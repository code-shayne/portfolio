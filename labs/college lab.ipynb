{
 "cells": [
  {
   "cell_type": "code",
   "execution_count": 1,
   "metadata": {},
   "outputs": [
    {
     "name": "stdout",
     "output_type": "stream",
     "text": [
      "How many dollars did you borrow? 69\n",
      "How many months will you borrow for? 888888888888888888888888888888888\n",
      "You owe $3.189333333333333e+33\n"
     ]
    }
   ],
   "source": [
    "P = float(input('How many dollars did you borrow? '))\n",
    "r = 0.052\n",
    "#(float(input('What is the anual interest rate expresssed as a decimal? '))/12)\n",
    "n = int(input('How many months will you borrow for? '))\n",
    "A = ((P * r) / (1-(1+r)**-n))*n\n",
    "print('You owe $' + str(A))"
   ]
  },
  {
   "cell_type": "code",
   "execution_count": 46,
   "metadata": {},
   "outputs": [
    {
     "name": "stdout",
     "output_type": "stream",
     "text": [
      "what percentage of it: 1\n",
      "311816.0\n"
     ]
    }
   ],
   "source": [
    "percent = float(input('what percentage of it: '))\n",
    "tuit = 77954*4\n",
    "p = tuit*percent\n",
    "print(p)"
   ]
  },
  {
   "cell_type": "code",
   "execution_count": 47,
   "metadata": {},
   "outputs": [
    {
     "name": "stdout",
     "output_type": "stream",
     "text": [
      "You owe $495117.4780649549 monthly: 2750.6526559164163\n"
     ]
    }
   ],
   "source": [
    "P = p\n",
    "#float(input('How many dollars did you borrow? '))\n",
    "r = 0.067/12\n",
    "#(float(input('What is the anual interest rate expresssed as a decimal? '))/12)\n",
    "n = 180\n",
    "#int(input('How many months will you borrow for? '))\n",
    "A = ((P * r) / (1-(1+r)**-n))*n\n",
    "print('You owe $' + str(A) + ' monthly: ' + str(A/180))"
   ]
  },
  {
   "cell_type": "code",
   "execution_count": null,
   "metadata": {},
   "outputs": [],
   "source": []
  }
 ],
 "metadata": {
  "kernelspec": {
   "display_name": "Python 3",
   "language": "python",
   "name": "python3"
  },
  "language_info": {
   "codemirror_mode": {
    "name": "ipython",
    "version": 3
   },
   "file_extension": ".py",
   "mimetype": "text/x-python",
   "name": "python",
   "nbconvert_exporter": "python",
   "pygments_lexer": "ipython3",
   "version": "3.7.3"
  }
 },
 "nbformat": 4,
 "nbformat_minor": 2
}
